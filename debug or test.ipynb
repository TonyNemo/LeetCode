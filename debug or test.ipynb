{
 "cells": [
  {
   "cell_type": "code",
   "execution_count": 25,
   "metadata": {},
   "outputs": [],
   "source": [
    "class Solution:\n",
    "    def longestPalindrome(self, s):\n",
    "        \"\"\"\n",
    "        :type s: str\n",
    "        :rtype: str\n",
    "        \"\"\"\n",
    "        lp = ''\n",
    "        for i in range(len(s)):\n",
    "            for j in range(len(s),i-1, -1):\n",
    "                if self.isPalindromic(s[i:j]):\n",
    "                    if len(lp)<len(s[i:j]):\n",
    "                        lp = s[i:j]\n",
    "        return lp\n",
    "        \n",
    "    def isPalindromic(self, s):\n",
    "        i, j = 0, len(s)-1\n",
    "        while i<=j:\n",
    "            if s[i]!=s[j]:\n",
    "                return 0\n",
    "            else:\n",
    "                i+=1\n",
    "                j-=1\n",
    "        return 1\n",
    "s = 'abbc'\n",
    "sl = Solution()\n",
    "sl.longestPalindrome(s)"
   ]
  },
  {
   "cell_type": "code",
   "execution_count": 20,
   "metadata": {},
   "outputs": [],
   "source": [
    "class Solution:\n",
    "    def convert(self, s, numRows):\n",
    "        \"\"\"\n",
    "        :type s: str\n",
    "        :type numRows: int\n",
    "        :rtype: str\n",
    "        \"\"\"\n",
    "        length = len(s)\n",
    "        zigzag = []\n",
    "        for r in range(numRows):\n",
    "            zigzag.append([])\n",
    "        down = True\n",
    "        row = 0\n",
    "        \n",
    "        for i in range(length):\n",
    "            if down:\n",
    "                zigzag[row].append(s[i])\n",
    "                row+=1\n",
    "                if row==numRows:\n",
    "                    down = False\n",
    "                    row = numRows-2\n",
    "            else:\n",
    "                zigzag[row].append(s[i])\n",
    "                row-=1\n",
    "                if row==-1:\n",
    "                    row = 1\n",
    "                    down = True\n",
    "        \n",
    "        out = ''.join([''.join(l) for l in zigzag])\n",
    "        return out\n",
    "s = \"PAYPALISHIRING\"\n",
    "# s = ''\n",
    "sl = Solution()\n",
    "sl.convert(s, 2)"
   ]
  },
  {
   "cell_type": "code",
   "execution_count": 25,
   "metadata": {},
   "outputs": [],
   "source": [
    "# 007\n",
    "class Solution:\n",
    "    def reverse(self, x):\n",
    "        \"\"\"\n",
    "        :type x: int\n",
    "        :rtype: int\n",
    "        \"\"\"\n",
    "        if x>pow(2,31)-1 or x<-pow(2,3):\n",
    "            return 0\n",
    "        l = list(str(x))\n",
    "        l.reverse()\n",
    "        if l[len(l)-1]=='-':\n",
    "            l = ['-']+l[:-1]\n",
    "        out = int(''.join(l))\n",
    "        return out\n",
    "\n",
    "x = 1000000000000000000000\n",
    "sl = Solution()\n",
    "sl.reverse(x)"
   ]
  },
  {
   "cell_type": "code",
   "execution_count": 29,
   "metadata": {},
   "outputs": [],
   "source": [
    "# 8\n",
    "class Solution:\n",
    "    def myAtoi(self, str):\n",
    "        \"\"\"\n",
    "        :type str: str\n",
    "        :rtype: int\n",
    "        \"\"\"\n",
    "        if not str[0].isnumeric() or str[0] not in ['+','-']:\n",
    "            return 0\n",
    "        return str\n",
    "            "
   ]
  },
  {
   "cell_type": "code",
   "execution_count": null,
   "metadata": {},
   "outputs": [],
   "source": [
    "# s = '42'\n",
    "# s = '-42'\n",
    "# s = '4300 with char'\n",
    "# s = 'char with 4399'\n",
    "# s = '-91283472332'\n",
    "sl = Solution()\n",
    "sl.myAtoi(s)"
   ]
  },
  {
   "cell_type": "code",
   "execution_count": 27,
   "metadata": {},
   "outputs": [
    {
     "data": {
      "text/plain": [
       "4294967296"
      ]
     },
     "execution_count": 27,
     "metadata": {},
     "output_type": "execute_result"
    }
   ],
   "source": [
    "import numpy as np\n",
    "pow(2,31)"
   ]
  },
  {
   "cell_type": "code",
   "execution_count": 20,
   "metadata": {},
   "outputs": [],
   "source": [
    "# class Solution:\n",
    "#     def isPalindrome(self, x):\n",
    "#         \"\"\"\n",
    "#         :type x: int\n",
    "#         :rtype: bool\n",
    "#         \"\"\"\n",
    "#         s = str(x)\n",
    "#         sl = list(s)\n",
    "#         sl.reverse()\n",
    "#         rs = ''.join(sl)\n",
    "#         if s==rs:\n",
    "#             return True\n",
    "#         else:\n",
    "#             return False\n",
    "class Solution:\n",
    "    def isPalindrome(self, x):\n",
    "        \"\"\"\n",
    "        :type x: int\n",
    "        :rtype: bool\n",
    "        \"\"\"\n",
    "        "
   ]
  },
  {
   "cell_type": "code",
   "execution_count": 21,
   "metadata": {},
   "outputs": [],
   "source": [
    "\n",
    "sl = Solution()\n"
   ]
  },
  {
   "cell_type": "code",
   "execution_count": 23,
   "metadata": {},
   "outputs": [
    {
     "data": {
      "text/plain": [
       "False"
      ]
     },
     "execution_count": 23,
     "metadata": {},
     "output_type": "execute_result"
    }
   ],
   "source": [
    "sl.isPalindrome(-121)"
   ]
  },
  {
   "cell_type": "code",
   "execution_count": 12,
   "metadata": {},
   "outputs": [],
   "source": [
    "x = 121\n",
    "s = str(x)\n",
    "sl = list(s)"
   ]
  },
  {
   "cell_type": "code",
   "execution_count": 18,
   "metadata": {},
   "outputs": [],
   "source": [
    "sl.reverse()\n"
   ]
  },
  {
   "cell_type": "code",
   "execution_count": 19,
   "metadata": {},
   "outputs": [
    {
     "data": {
      "text/plain": [
       "['1', '2', '1']"
      ]
     },
     "execution_count": 19,
     "metadata": {},
     "output_type": "execute_result"
    }
   ],
   "source": []
  },
  {
   "cell_type": "code",
   "execution_count": null,
   "metadata": {},
   "outputs": [],
   "source": []
  }
 ],
 "metadata": {
  "kernelspec": {
   "display_name": "Python 3",
   "language": "python",
   "name": "python3"
  },
  "language_info": {
   "codemirror_mode": {
    "name": "ipython",
    "version": 3
   },
   "file_extension": ".py",
   "mimetype": "text/x-python",
   "name": "python",
   "nbconvert_exporter": "python",
   "pygments_lexer": "ipython3",
   "version": "3.6.2"
  }
 },
 "nbformat": 4,
 "nbformat_minor": 2
}
