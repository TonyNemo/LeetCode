{
 "cells": [
  {
   "cell_type": "code",
   "execution_count": 25,
   "metadata": {},
   "outputs": [],
   "source": [
    "class Solution:\n",
    "    def longestPalindrome(self, s):\n",
    "        \"\"\"\n",
    "        :type s: str\n",
    "        :rtype: str\n",
    "        \"\"\"\n",
    "        lp = ''\n",
    "        for i in range(len(s)):\n",
    "            for j in range(len(s),i-1, -1):\n",
    "                if self.isPalindromic(s[i:j]):\n",
    "                    if len(lp)<len(s[i:j]):\n",
    "                        lp = s[i:j]\n",
    "        return lp\n",
    "        \n",
    "    def isPalindromic(self, s):\n",
    "        i, j = 0, len(s)-1\n",
    "        while i<=j:\n",
    "            if s[i]!=s[j]:\n",
    "                return 0\n",
    "            else:\n",
    "                i+=1\n",
    "                j-=1\n",
    "        return 1"
   ]
  },
  {
   "cell_type": "code",
   "execution_count": 26,
   "metadata": {},
   "outputs": [
    {
     "data": {
      "text/plain": [
       "'bb'"
      ]
     },
     "execution_count": 26,
     "metadata": {},
     "output_type": "execute_result"
    }
   ],
   "source": [
    "s = 'abbc'\n",
    "sl = Solution()\n",
    "sl.longestPalindrome(s)"
   ]
  },
  {
   "cell_type": "code",
   "execution_count": 20,
   "metadata": {},
   "outputs": [],
   "source": [
    "class Solution:\n",
    "    def convert(self, s, numRows):\n",
    "        \"\"\"\n",
    "        :type s: str\n",
    "        :type numRows: int\n",
    "        :rtype: str\n",
    "        \"\"\"\n",
    "        length = len(s)\n",
    "        zigzag = []\n",
    "        for r in range(numRows):\n",
    "            zigzag.append([])\n",
    "        down = True\n",
    "        row = 0\n",
    "        \n",
    "        for i in range(length):\n",
    "            if down:\n",
    "                zigzag[row].append(s[i])\n",
    "                row+=1\n",
    "                if row==numRows:\n",
    "                    down = False\n",
    "                    row = numRows-2\n",
    "            else:\n",
    "                zigzag[row].append(s[i])\n",
    "                row-=1\n",
    "                if row==-1:\n",
    "                    row = 1\n",
    "                    down = True\n",
    "        \n",
    "        out = ''.join([''.join(l) for l in zigzag])\n",
    "        return out"
   ]
  },
  {
   "cell_type": "code",
   "execution_count": 25,
   "metadata": {},
   "outputs": [
    {
     "data": {
      "text/plain": [
       "'PYAIHRNAPLSIIG'"
      ]
     },
     "execution_count": 25,
     "metadata": {},
     "output_type": "execute_result"
    }
   ],
   "source": [
    "s = \"PAYPALISHIRING\"\n",
    "# s = ''\n",
    "sl = Solution()\n",
    "sl.convert(s, 2)"
   ]
  },
  {
   "cell_type": "code",
   "execution_count": 16,
   "metadata": {},
   "outputs": [],
   "source": [
    "\n"
   ]
  },
  {
   "cell_type": "code",
   "execution_count": 17,
   "metadata": {},
   "outputs": [
    {
     "name": "stdout",
     "output_type": "stream",
     "text": [
      "[['P', 'A', 'H', 'N'], ['A', 'P', 'L', 'S', 'I', 'I', 'G'], ['Y', 'I', 'R']]\n"
     ]
    }
   ],
   "source": [
    "down = True\n",
    "row = 0\n",
    "for i in range(length):\n",
    "    if down:\n",
    "        zigzag[row].append(s[i])\n",
    "        row+=1\n",
    "        if row==numRows:\n",
    "            down = False\n",
    "            row = numRows-2\n",
    "    else:\n",
    "        zigzag[row].append(s[i])\n",
    "        row-=1\n",
    "        if row==-1:\n",
    "            row = 1\n",
    "            down = True\n"
   ]
  },
  {
   "cell_type": "code",
   "execution_count": 18,
   "metadata": {},
   "outputs": [
    {
     "data": {
      "text/plain": [
       "3"
      ]
     },
     "execution_count": 18,
     "metadata": {},
     "output_type": "execute_result"
    }
   ],
   "source": [
    "len(zigzag\n",
    "   )"
   ]
  },
  {
   "cell_type": "code",
   "execution_count": 19,
   "metadata": {},
   "outputs": [
    {
     "data": {
      "text/plain": [
       "'PAHNAPLSIIGYIR'"
      ]
     },
     "execution_count": 19,
     "metadata": {},
     "output_type": "execute_result"
    }
   ],
   "source": [
    "''.join([''.join(l) for l in zigzag])"
   ]
  },
  {
   "cell_type": "code",
   "execution_count": null,
   "metadata": {},
   "outputs": [],
   "source": []
  }
 ],
 "metadata": {
  "kernelspec": {
   "display_name": "Python 3",
   "language": "python",
   "name": "python3"
  },
  "language_info": {
   "codemirror_mode": {
    "name": "ipython",
    "version": 3
   },
   "file_extension": ".py",
   "mimetype": "text/x-python",
   "name": "python",
   "nbconvert_exporter": "python",
   "pygments_lexer": "ipython3",
   "version": "3.6.2"
  }
 },
 "nbformat": 4,
 "nbformat_minor": 2
}
